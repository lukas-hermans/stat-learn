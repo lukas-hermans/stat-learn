{
 "cells": [
  {
   "cell_type": "code",
   "execution_count": 1,
   "id": "bb868fe7",
   "metadata": {},
   "outputs": [],
   "source": [
    "import pandas as pd\n",
    "import tensorflow as tf\n",
    "from tensorflow import keras\n",
    "from tensorflow.keras import layers\n",
    "\n",
    "### user input\n",
    "\n",
    "moving_window_path = \"../data/moving_window/\""
   ]
  },
  {
   "cell_type": "code",
   "execution_count": 5,
   "id": "9fdb9a95",
   "metadata": {},
   "outputs": [],
   "source": [
    "data = pd.read_csv(moving_window_path + \"m=20.csv\")\n",
    "\n",
    "### neural network\n",
    "\n",
    "model = keras.Sequential()\n",
    "model.add(layers.Dense(2, activation=\"relu\"))\n",
    "model.add(layers.Dense(3, activation=\"relu\"))\n",
    "model.add(layers.Dense(4, activation=\"softmax\"))\n",
    "\n",
    "model.compile()\n",
    "\n"
   ]
  }
 ],
 "metadata": {
  "kernelspec": {
   "display_name": "Python 3",
   "language": "python",
   "name": "python3"
  },
  "language_info": {
   "codemirror_mode": {
    "name": "ipython",
    "version": 3
   },
   "file_extension": ".py",
   "mimetype": "text/x-python",
   "name": "python",
   "nbconvert_exporter": "python",
   "pygments_lexer": "ipython3",
   "version": "3.7.10"
  }
 },
 "nbformat": 4,
 "nbformat_minor": 5
}
